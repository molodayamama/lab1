{
  "cells": [
    {
      "cell_type": "markdown",
      "metadata": {
        "id": "M-DGa20PaHnu"
      },
      "source": [
        "# Задача 1\n",
        "Написать функцию на вход которой подается строка, состоящая из латинских букв.\n",
        "Функция должна вернуть количество гласных букв (a, e, i, o, u) в этой строке. Написать тесты для кода"
      ]
    },
    {
      "cell_type": "code",
      "execution_count": 2,
      "metadata": {
        "id": "XvX8X_JJ6PCb"
      },
      "outputs": [
        {
          "name": "stdout",
          "output_type": "stream",
          "text": [
            "pass\n"
          ]
        }
      ],
      "source": [
        "def latin_count(s):\n",
        "    latins = \"aeiouAEIOU\"\n",
        "    count  = 0\n",
        "    for char in s:\n",
        "        if char in latins:\n",
        "            count += 1\n",
        "    return count\n",
        "\n",
        "def test_latin_count():\n",
        "    assert latin_count(\"hello\") == 2, \"test failed\"\n",
        "    assert latin_count(\"aeiou\") == 5, \"test failed\"\n",
        "    assert latin_count(\"\") == 0, \"test failed\"\n",
        "\n",
        "    print('pass')\n",
        "\n",
        "test_latin_count()\n"
      ]
    },
    {
      "cell_type": "markdown",
      "metadata": {
        "id": "t2ClV_Y0bbr6"
      },
      "source": [
        "# Задача 2\n",
        "Написать функцию на вход, которой подается строка. Функция должна вернуть true, если\n",
        "каждый символ в строке встречается только 1 раз, иначе должна вернуть false. Написать тесты для кода"
      ]
    },
    {
      "cell_type": "code",
      "execution_count": 3,
      "metadata": {
        "id": "FppbECao6VIz"
      },
      "outputs": [
        {
          "name": "stdout",
          "output_type": "stream",
          "text": [
            "pass\n"
          ]
        }
      ],
      "source": [
        "def unique_chars(s):\n",
        "    setted_chars = set()\n",
        "    for char in s:\n",
        "        if char in setted_chars:\n",
        "            return False\n",
        "        setted_chars.add(char)\n",
        "    return True\n",
        "\n",
        "def test_unique_chars():\n",
        "    assert unique_chars(\"\") == True, \"need true\"\n",
        "    assert unique_chars(\"abcde\") == True, \"need true\"\n",
        "    assert unique_chars(\"aabbcc\") == False, \"need false\"\n",
        "    assert unique_chars(\"1234567890\") == True, \"need true\"\n",
        "    assert unique_chars(\"112233\") == False, \"need false\"\n",
        "\n",
        "    print('pass')\n",
        "\n",
        "test_unique_chars()"
      ]
    },
    {
      "cell_type": "markdown",
      "metadata": {
        "id": "udRiIK1cdt6E"
      },
      "source": [
        "# Задача 3\n",
        "Написать функцию, которая принимает положительное число и возвращает количество\n",
        "бит равных 1 в этом числе. Написать тесты для кода"
      ]
    },
    {
      "cell_type": "code",
      "execution_count": 6,
      "metadata": {
        "id": "6tkfDJRz6dp_"
      },
      "outputs": [
        {
          "name": "stdout",
          "output_type": "stream",
          "text": [
            "pass\n"
          ]
        }
      ],
      "source": [
        "def bit_count(n):\n",
        "    if n > 0:\n",
        "        return bin(n).count('1')\n",
        "    \n",
        "def test_bit_count():\n",
        "    assert bit_count(1) == 1, \"test failed\"\n",
        "    assert bit_count(2) == 1, \"test failed\"\n",
        "    assert bit_count(3) == 2, \"test failed\"\n",
        "    assert bit_count(15) == 4, \"test failed\"\n",
        "    print(\"pass\")\n",
        "\n",
        "test_bit_count()"
      ]
    },
    {
      "cell_type": "markdown",
      "metadata": {
        "id": "26dDUz-Ae17N"
      },
      "source": [
        "# Задача 4\n",
        "Написать функцию, которая принимает положительное число. Функция должна вернуть то,\n",
        "сколько раз необходимо перемножать цифры числа или результат перемножения, чтобы\n",
        "получилось число состоящее из одной цифры.\n",
        "Например, для входного числа:\n",
        "· 39 функция должна вернуть 3, так как 3*9=27 => 2*7=14 => 1*4=4\n",
        "· 4 функция должна вернуть 0, так как число уже состоит из одной цифры\n",
        "· 999 функция должна вернуть 4, так как 9*9*9=729 => 7*2*9=126 => 1*2*6=12 =>\n",
        "1*2=2. Написать тесты для кода"
      ]
    },
    {
      "cell_type": "code",
      "execution_count": 8,
      "metadata": {
        "id": "BH1A_Mgi6i4G"
      },
      "outputs": [
        {
          "name": "stdout",
          "output_type": "stream",
          "text": [
            "pass\n"
          ]
        }
      ],
      "source": [
        "def magic(n):\n",
        "    count = 0\n",
        "    while n >= 10:\n",
        "        product = 1\n",
        "        for digit in str(n):\n",
        "            product *= int(digit)\n",
        "        n = product\n",
        "        count += 1\n",
        "    return count\n",
        "\n",
        "def test_magic():\n",
        "    assert magic(39) == 3, \"test failed\"\n",
        "    assert magic(4) == 0, \"test failed\"\n",
        "    assert magic(999) == 4, \"test failed\"\n",
        "    assert magic(10) == 1, \"test failed\"\n",
        "    print(\"pass\")\n",
        "\n",
        "test_magic()"
      ]
    },
    {
      "cell_type": "markdown",
      "metadata": {
        "id": "0nS-kIa8g8vd"
      },
      "source": [
        "# Задача 5\n",
        "Написать функцию, которая принимает два целочисленных вектора одинаковой длины и\n",
        "возвращает среднеквадратическое отклонение двух векторов. Написать тесты для кода"
      ]
    },
    {
      "cell_type": "code",
      "execution_count": 11,
      "metadata": {
        "id": "8iphx4LM6xbx"
      },
      "outputs": [
        {
          "name": "stdout",
          "output_type": "stream",
          "text": [
            "pass\n"
          ]
        }
      ],
      "source": [
        "def mse(pred, true):\n",
        "    if len(pred) != len(true):\n",
        "        TypeError\n",
        "    if len(pred) == 0:\n",
        "        TypeError\n",
        "    squared_errors = [(p - t) ** 2 for p, t in zip(pred, true)]\n",
        "    return sum(squared_errors) / len(squared_errors)\n",
        "\n",
        "def test_mse():\n",
        "    pred = [1, 2, 3]\n",
        "    true = [1, 2, 3]\n",
        "    assert mse(pred, true) == 0, \"test failed\"\n",
        "\n",
        "    pred = [1, 2, 3]\n",
        "    true = [4, 5, 6]\n",
        "    assert mse(pred, true) == 9, \"test failed\"\n",
        "\n",
        "    pred = [0, 0, 0]\n",
        "    true = [0, 0, 0]\n",
        "    assert mse(pred, true) == 0, \"test failed\"\n",
        "\n",
        "    print(\"pass\")\n",
        "\n",
        "test_mse()\n"
      ]
    },
    {
      "cell_type": "markdown",
      "metadata": {
        "id": "vpIPKL439zkw"
      },
      "source": [
        "# Задача 6\n",
        "Написать функцию, принимающая целое положительное число. Функция должна вернуть\n",
        "строку вида “(n1**p1)(n2**p2)…(nk**pk)” представляющая разложение числа на простые\n",
        "множители (если pi == 1, то выводить только ni).\n",
        "Например, для числа 86240 функция должна вернуть “(2**5)(5)(7**2)(11)”. Написать тесты для кода"
      ]
    },
    {
      "cell_type": "code",
      "execution_count": 12,
      "metadata": {
        "id": "pFebmcZk94Jw"
      },
      "outputs": [
        {
          "name": "stdout",
          "output_type": "stream",
          "text": [
            "pass\n"
          ]
        }
      ],
      "source": [
        "def prime_dig(n):\n",
        "    factors = {}\n",
        "    divisor = 2\n",
        "    while n > 1:\n",
        "        while n % divisor == 0:\n",
        "            if divisor in factors:\n",
        "                factors[divisor] += 1\n",
        "            else:\n",
        "                factors[divisor] = 1\n",
        "            n //= divisor\n",
        "        divisor += 1\n",
        "\n",
        "    result = \"\"\n",
        "    for prime, power in sorted(factors.items()):\n",
        "        if power == 1:\n",
        "            result += f\"({prime})\"\n",
        "        else:\n",
        "            result += f\"({prime}**{power})\"\n",
        "    return result\n",
        "\n",
        "def test_prime_dig():\n",
        "    assert prime_dig(86240) == \"(2**5)(5)(7**2)(11)\"\n",
        "    assert prime_dig(60) == \"(2**2)(3)(5)\"\n",
        "    assert prime_dig(13) == \"(13)\"\n",
        "    assert prime_dig(100) == \"(2**2)(5**2)\"\n",
        "\n",
        "    print(\"pass\")\n",
        "\n",
        "test_prime_dig()"
      ]
    },
    {
      "cell_type": "markdown",
      "metadata": {
        "id": "ps2s0BudX7A2"
      },
      "source": [
        "# Задача 7\n",
        "Написать функцию, принимающая целое число n, задающее количество кубиков. Функция\n",
        "должна определить, можно ли из данного кол-ва кубиков построить пирамиду, то есть\n",
        "можно ли представить число n как 1^2+2^2+3^2+…+k^2. Если можно, то функция должна\n",
        "вернуть k, иначе строку “It is impossible”. Написать тесты для кода"
      ]
    },
    {
      "cell_type": "code",
      "execution_count": 20,
      "metadata": {
        "id": "3YPjEXxhX_YT"
      },
      "outputs": [
        {
          "name": "stdout",
          "output_type": "stream",
          "text": [
            "pass\n"
          ]
        }
      ],
      "source": [
        "def pyramid(number):\n",
        "    if number < 1:\n",
        "        return \"It is impossible\"\n",
        "    \n",
        "    total = 0\n",
        "    k = 0\n",
        "    \n",
        "    while total < number:\n",
        "        k += 1\n",
        "        total += k ** 2\n",
        "        \n",
        "        if total == number:\n",
        "            return k\n",
        "    \n",
        "    return \"It is impossible\"\n",
        "\n",
        "def test_pyramid():\n",
        "    assert pyramid(55) == 5, \"test failed\"\n",
        "    assert pyramid(91) == 6, \"test failed\"\n",
        "    assert pyramid(0) == \"It is impossible\", \"test failed\"\n",
        "\n",
        "    print(\"pass\")\n",
        "\n",
        "test_pyramid()"
      ]
    },
    {
      "cell_type": "markdown",
      "metadata": {
        "id": "KeKgmIdAQMEJ"
      },
      "source": [
        "# Задача 8\n",
        "Функция принимает на вход положительное число и определяет является ли оно сбалансированным, т.е. сумма цифр до средних равна сумме цифр после. Средними в случае нечетного числа цифр считать одну цифру, в случае четного - две средних. Написать тесты для кода"
      ]
    },
    {
      "cell_type": "code",
      "execution_count": 33,
      "metadata": {
        "id": "gMAAqtqlQrZt"
      },
      "outputs": [
        {
          "name": "stdout",
          "output_type": "stream",
          "text": [
            "pass\n"
          ]
        }
      ],
      "source": [
        "def is_balanced_number(n):\n",
        "    num_str = str(n)\n",
        "    length = len(num_str)\n",
        "\n",
        "    if length % 2 == 0:\n",
        "        mid = length // 2\n",
        "        left_sum = sum(int(digit) for digit in num_str[:mid-1])\n",
        "        right_sum = sum(int(digit) for digit in num_str[mid+1:])\n",
        "    else:\n",
        "        mid = length // 2\n",
        "        left_sum = sum(int(digit) for digit in num_str[:mid])\n",
        "        right_sum = sum(int(digit) for digit in num_str[mid+1:])\n",
        "    \n",
        "    return left_sum == right_sum\n",
        "\n",
        "def test_is_balanced_number():\n",
        "    assert is_balanced_number(123321) == True, \"test failed\"\n",
        "    assert is_balanced_number(123456) == False, \"test failed\"\n",
        "    assert is_balanced_number(5) == True, \"test failed\"\n",
        "\n",
        "    print(\"pass\")\n",
        "\n",
        "test_is_balanced_number()"
      ]
    }
  ],
  "metadata": {
    "colab": {
      "provenance": []
    },
    "kernelspec": {
      "display_name": "base",
      "language": "python",
      "name": "python3"
    },
    "language_info": {
      "codemirror_mode": {
        "name": "ipython",
        "version": 3
      },
      "file_extension": ".py",
      "mimetype": "text/x-python",
      "name": "python",
      "nbconvert_exporter": "python",
      "pygments_lexer": "ipython3",
      "version": "3.11.7"
    }
  },
  "nbformat": 4,
  "nbformat_minor": 0
}
